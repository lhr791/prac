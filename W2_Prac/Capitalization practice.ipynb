{
 "cells": [
  {
   "cell_type": "markdown",
   "metadata": {},
   "source": [
    "# 取出字符串中数字、字母、大小写英文\n",
    "## Take out the numbers, letters, uppercase and lowercase English in the string"
   ]
  },
  {
   "cell_type": "markdown",
   "metadata": {},
   "source": [
    "\n",
    "* 方法1 for循环\n",
    "* .isdigit()=是否由数字构成\n",
    "* .islower()=是否由小写。。\n",
    "* .isupper()=。。。。"
   ]
  },
  {
   "cell_type": "code",
   "execution_count": null,
   "metadata": {},
   "outputs": [],
   "source": [
    "number=''"
   ]
  },
  {
   "cell_type": "code",
   "execution_count": null,
   "metadata": {},
   "outputs": [],
   "source": [
    "lower=''"
   ]
  },
  {
   "cell_type": "code",
   "execution_count": null,
   "metadata": {},
   "outputs": [],
   "source": [
    "upper=''"
   ]
  },
  {
   "cell_type": "code",
   "execution_count": null,
   "metadata": {},
   "outputs": [],
   "source": [
    "a='asd213SDAF123SADsdf'"
   ]
  },
  {
   "cell_type": "code",
   "execution_count": null,
   "metadata": {},
   "outputs": [],
   "source": [
    "for i in a :\n",
    "    if i.isdigit():\n",
    "        number=number+i\n",
    "    elif i.islower():\n",
    "        lower=lower+i\n",
    "    elif i.isupper():\n",
    "        upper=upper+i"
   ]
  },
  {
   "cell_type": "code",
   "execution_count": null,
   "metadata": {},
   "outputs": [],
   "source": [
    "print(number+'\\n'+lower+'\\n'+upper)"
   ]
  },
  {
   "cell_type": "code",
   "execution_count": null,
   "metadata": {},
   "outputs": [],
   "source": [
    "* 方法2 正则表达式\n",
    "* \\d=匹配任意数字，等价于[0-9]\n",
    "* \\D=匹配任意非数字\n",
    "* [0-9]匹配任意数字\n",
    "* [a-z]匹配任意小写字母\n",
    "* [A-Z]。。。。。\n",
    "* [a-zA-Z0-9]匹配任意数字字母"
   ]
  },
  {
   "cell_type": "code",
   "execution_count": null,
   "metadata": {},
   "outputs": [],
   "source": [
    "import re"
   ]
  },
  {
   "cell_type": "code",
   "execution_count": null,
   "metadata": {},
   "outputs": [],
   "source": [
    "re.findall('[A-Za-z]', a)"
   ]
  },
  {
   "cell_type": "code",
   "execution_count": null,
   "metadata": {},
   "outputs": [],
   "source": [
    "print(''.join(re.findall('[A-Za-z]', a)))\n",
    "print(''.join(re.findall('[A-Z]', a)))\n",
    "print(''.join(re.findall('[a-z]', a)))\n",
    "print(''.join(re.findall('[0-9]', a)))\n",
    "print(''.join(re.findall('[2-9]', a)))"
   ]
  },
  {
   "cell_type": "markdown",
   "metadata": {},
   "source": [
    "* 对str格式 a里面的内容进行输出项替换（不替换原a）"
   ]
  },
  {
   "cell_type": "code",
   "execution_count": null,
   "metadata": {},
   "outputs": [],
   "source": [
    "print(re.sub('1', 'T', a))\n",
    "print(re.sub('\\D', '',a))"
   ]
  }
 ],
 "metadata": {
  "kernelspec": {
   "display_name": "Python 3",
   "language": "python",
   "name": "python3"
  },
  "language_info": {
   "codemirror_mode": {
    "name": "ipython",
    "version": 3
   },
   "file_extension": ".py",
   "mimetype": "text/x-python",
   "name": "python",
   "nbconvert_exporter": "python",
   "pygments_lexer": "ipython3",
   "version": "3.8.5"
  }
 },
 "nbformat": 4,
 "nbformat_minor": 4
}
